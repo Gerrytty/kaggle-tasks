{
 "cells": [
  {
   "cell_type": "code",
   "execution_count": 28,
   "id": "respiratory-potato",
   "metadata": {},
   "outputs": [],
   "source": [
    "import pandas as pd\n",
    "from sklearn.ensemble import RandomForestRegressor\n",
    "from xgboost import XGBRegressor\n",
    "from matplotlib import pyplot as plt\n",
    "import numpy as np\n",
    "from sklearn.preprocessing import PolynomialFeatures\n",
    "from sklearn.linear_model import LinearRegression\n",
    "from sklearn.metrics import mean_squared_error\n",
    "from sklearn.metrics import accuracy_score\n",
    "import numpy as np\n",
    "from sklearn.linear_model import LinearRegression\n",
    "from sklearn.ensemble import RandomForestRegressor\n",
    "from sklearn.neighbors import KNeighborsClassifier\n",
    "from sklearn.preprocessing import StandardScaler\n",
    "from sklearn.preprocessing import StandardScaler\n",
    "\n",
    "from matplotlib import pyplot as plt\n",
    "\n",
    "%matplotlib inline"
   ]
  },
  {
   "cell_type": "code",
   "execution_count": 102,
   "id": "hydraulic-institute",
   "metadata": {},
   "outputs": [],
   "source": [
    "train_data = pd.read_csv(\"/home/yuliya/Downloads/Training_wells.csv\")\n",
    "test_data = pd.read_csv(\"/home/yuliya/Downloads/test_data.csv\")"
   ]
  },
  {
   "cell_type": "code",
   "execution_count": 3,
   "id": "distant-efficiency",
   "metadata": {},
   "outputs": [],
   "source": [
    "train_data['X'] = train_data['X'] - 200\n",
    "test_data['X'] = test_data['X'] - 200\n",
    "\n",
    "train_data['Y'] = train_data['Y'] - 900\n",
    "test_data['Y'] = test_data['Y'] - 900\n",
    "\n",
    "# train_data['X'] = (train_data['X'] - 200) ** 2\n",
    "# test_data['X'] = (test_data['X'] - 200) ** 2\n",
    "\n",
    "# train_data['Y'] = (train_data['Y'] - 900) ** 2\n",
    "# test_data['Y'] = (test_data['Y'] - 900) ** 2\n",
    "\n",
    "train_data['XY'] = train_data['X'] * train_data['Y']\n",
    "test_data['XY'] = test_data['X'] * test_data['Y']"
   ]
  },
  {
   "cell_type": "code",
   "execution_count": 4,
   "id": "ceramic-state",
   "metadata": {},
   "outputs": [
    {
     "data": {
      "text/html": [
       "<div>\n",
       "<style scoped>\n",
       "    .dataframe tbody tr th:only-of-type {\n",
       "        vertical-align: middle;\n",
       "    }\n",
       "\n",
       "    .dataframe tbody tr th {\n",
       "        vertical-align: top;\n",
       "    }\n",
       "\n",
       "    .dataframe thead th {\n",
       "        text-align: right;\n",
       "    }\n",
       "</style>\n",
       "<table border=\"1\" class=\"dataframe\">\n",
       "  <thead>\n",
       "    <tr style=\"text-align: right;\">\n",
       "      <th></th>\n",
       "      <th>Well</th>\n",
       "      <th>X</th>\n",
       "      <th>Y</th>\n",
       "      <th>NTG</th>\n",
       "      <th>XY</th>\n",
       "    </tr>\n",
       "  </thead>\n",
       "  <tbody>\n",
       "    <tr>\n",
       "      <th>0</th>\n",
       "      <td>201-907</td>\n",
       "      <td>1</td>\n",
       "      <td>7</td>\n",
       "      <td>0.2006</td>\n",
       "      <td>7</td>\n",
       "    </tr>\n",
       "    <tr>\n",
       "      <th>1</th>\n",
       "      <td>201-914</td>\n",
       "      <td>1</td>\n",
       "      <td>14</td>\n",
       "      <td>0.3624</td>\n",
       "      <td>14</td>\n",
       "    </tr>\n",
       "    <tr>\n",
       "      <th>2</th>\n",
       "      <td>201-924</td>\n",
       "      <td>1</td>\n",
       "      <td>24</td>\n",
       "      <td>0.4381</td>\n",
       "      <td>24</td>\n",
       "    </tr>\n",
       "    <tr>\n",
       "      <th>3</th>\n",
       "      <td>202-925</td>\n",
       "      <td>2</td>\n",
       "      <td>25</td>\n",
       "      <td>0.4021</td>\n",
       "      <td>50</td>\n",
       "    </tr>\n",
       "    <tr>\n",
       "      <th>4</th>\n",
       "      <td>203-902</td>\n",
       "      <td>3</td>\n",
       "      <td>2</td>\n",
       "      <td>0.2628</td>\n",
       "      <td>6</td>\n",
       "    </tr>\n",
       "  </tbody>\n",
       "</table>\n",
       "</div>"
      ],
      "text/plain": [
       "      Well  X   Y     NTG  XY\n",
       "0  201-907  1   7  0.2006   7\n",
       "1  201-914  1  14  0.3624  14\n",
       "2  201-924  1  24  0.4381  24\n",
       "3  202-925  2  25  0.4021  50\n",
       "4  203-902  3   2  0.2628   6"
      ]
     },
     "execution_count": 4,
     "metadata": {},
     "output_type": "execute_result"
    }
   ],
   "source": [
    "train_data.head()"
   ]
  },
  {
   "cell_type": "code",
   "execution_count": 5,
   "id": "located-shareware",
   "metadata": {},
   "outputs": [
    {
     "name": "stdout",
     "output_type": "stream",
     "text": [
      "Shape of train (114, 5)\n",
      "Shape of test (24, 5)\n"
     ]
    }
   ],
   "source": [
    "print(f\"Shape of train {train_data.shape}\")\n",
    "print(f\"Shape of test {test_data.shape}\")"
   ]
  },
  {
   "cell_type": "code",
   "execution_count": 103,
   "id": "permanent-germany",
   "metadata": {},
   "outputs": [],
   "source": [
    "train_data = train_data.drop('Well', axis=1)\n",
    "test_data = test_data.drop('Well', axis=1)"
   ]
  },
  {
   "cell_type": "code",
   "execution_count": 97,
   "id": "right-small",
   "metadata": {},
   "outputs": [
    {
     "data": {
      "text/html": [
       "<div>\n",
       "<style scoped>\n",
       "    .dataframe tbody tr th:only-of-type {\n",
       "        vertical-align: middle;\n",
       "    }\n",
       "\n",
       "    .dataframe tbody tr th {\n",
       "        vertical-align: top;\n",
       "    }\n",
       "\n",
       "    .dataframe thead th {\n",
       "        text-align: right;\n",
       "    }\n",
       "</style>\n",
       "<table border=\"1\" class=\"dataframe\">\n",
       "  <thead>\n",
       "    <tr style=\"text-align: right;\">\n",
       "      <th></th>\n",
       "      <th>X</th>\n",
       "      <th>Y</th>\n",
       "      <th>NTG</th>\n",
       "    </tr>\n",
       "  </thead>\n",
       "  <tbody>\n",
       "    <tr>\n",
       "      <th>0</th>\n",
       "      <td>201</td>\n",
       "      <td>907</td>\n",
       "      <td>0.2006</td>\n",
       "    </tr>\n",
       "    <tr>\n",
       "      <th>1</th>\n",
       "      <td>201</td>\n",
       "      <td>914</td>\n",
       "      <td>0.3624</td>\n",
       "    </tr>\n",
       "    <tr>\n",
       "      <th>2</th>\n",
       "      <td>201</td>\n",
       "      <td>924</td>\n",
       "      <td>0.4381</td>\n",
       "    </tr>\n",
       "    <tr>\n",
       "      <th>3</th>\n",
       "      <td>202</td>\n",
       "      <td>925</td>\n",
       "      <td>0.4021</td>\n",
       "    </tr>\n",
       "    <tr>\n",
       "      <th>4</th>\n",
       "      <td>203</td>\n",
       "      <td>902</td>\n",
       "      <td>0.2628</td>\n",
       "    </tr>\n",
       "    <tr>\n",
       "      <th>5</th>\n",
       "      <td>203</td>\n",
       "      <td>906</td>\n",
       "      <td>0.2517</td>\n",
       "    </tr>\n",
       "    <tr>\n",
       "      <th>6</th>\n",
       "      <td>203</td>\n",
       "      <td>929</td>\n",
       "      <td>0.3452</td>\n",
       "    </tr>\n",
       "    <tr>\n",
       "      <th>7</th>\n",
       "      <td>204</td>\n",
       "      <td>904</td>\n",
       "      <td>0.2092</td>\n",
       "    </tr>\n",
       "    <tr>\n",
       "      <th>8</th>\n",
       "      <td>204</td>\n",
       "      <td>907</td>\n",
       "      <td>0.1974</td>\n",
       "    </tr>\n",
       "    <tr>\n",
       "      <th>9</th>\n",
       "      <td>205</td>\n",
       "      <td>911</td>\n",
       "      <td>0.3061</td>\n",
       "    </tr>\n",
       "    <tr>\n",
       "      <th>10</th>\n",
       "      <td>205</td>\n",
       "      <td>916</td>\n",
       "      <td>0.3268</td>\n",
       "    </tr>\n",
       "    <tr>\n",
       "      <th>11</th>\n",
       "      <td>205</td>\n",
       "      <td>923</td>\n",
       "      <td>0.3431</td>\n",
       "    </tr>\n",
       "    <tr>\n",
       "      <th>12</th>\n",
       "      <td>205</td>\n",
       "      <td>927</td>\n",
       "      <td>0.3568</td>\n",
       "    </tr>\n",
       "    <tr>\n",
       "      <th>13</th>\n",
       "      <td>206</td>\n",
       "      <td>912</td>\n",
       "      <td>0.3054</td>\n",
       "    </tr>\n",
       "    <tr>\n",
       "      <th>14</th>\n",
       "      <td>206</td>\n",
       "      <td>914</td>\n",
       "      <td>0.3228</td>\n",
       "    </tr>\n",
       "    <tr>\n",
       "      <th>15</th>\n",
       "      <td>206</td>\n",
       "      <td>929</td>\n",
       "      <td>0.2682</td>\n",
       "    </tr>\n",
       "    <tr>\n",
       "      <th>16</th>\n",
       "      <td>207</td>\n",
       "      <td>910</td>\n",
       "      <td>0.3249</td>\n",
       "    </tr>\n",
       "    <tr>\n",
       "      <th>17</th>\n",
       "      <td>207</td>\n",
       "      <td>912</td>\n",
       "      <td>0.2659</td>\n",
       "    </tr>\n",
       "    <tr>\n",
       "      <th>18</th>\n",
       "      <td>207</td>\n",
       "      <td>919</td>\n",
       "      <td>0.3205</td>\n",
       "    </tr>\n",
       "    <tr>\n",
       "      <th>19</th>\n",
       "      <td>207</td>\n",
       "      <td>927</td>\n",
       "      <td>0.2963</td>\n",
       "    </tr>\n",
       "  </tbody>\n",
       "</table>\n",
       "</div>"
      ],
      "text/plain": [
       "      X    Y     NTG\n",
       "0   201  907  0.2006\n",
       "1   201  914  0.3624\n",
       "2   201  924  0.4381\n",
       "3   202  925  0.4021\n",
       "4   203  902  0.2628\n",
       "5   203  906  0.2517\n",
       "6   203  929  0.3452\n",
       "7   204  904  0.2092\n",
       "8   204  907  0.1974\n",
       "9   205  911  0.3061\n",
       "10  205  916  0.3268\n",
       "11  205  923  0.3431\n",
       "12  205  927  0.3568\n",
       "13  206  912  0.3054\n",
       "14  206  914  0.3228\n",
       "15  206  929  0.2682\n",
       "16  207  910  0.3249\n",
       "17  207  912  0.2659\n",
       "18  207  919  0.3205\n",
       "19  207  927  0.2963"
      ]
     },
     "execution_count": 97,
     "metadata": {},
     "output_type": "execute_result"
    }
   ],
   "source": [
    "train_data.head(20)"
   ]
  },
  {
   "cell_type": "code",
   "execution_count": 91,
   "id": "facial-mistress",
   "metadata": {},
   "outputs": [
    {
     "data": {
      "text/html": [
       "<div>\n",
       "<style scoped>\n",
       "    .dataframe tbody tr th:only-of-type {\n",
       "        vertical-align: middle;\n",
       "    }\n",
       "\n",
       "    .dataframe tbody tr th {\n",
       "        vertical-align: top;\n",
       "    }\n",
       "\n",
       "    .dataframe thead th {\n",
       "        text-align: right;\n",
       "    }\n",
       "</style>\n",
       "<table border=\"1\" class=\"dataframe\">\n",
       "  <thead>\n",
       "    <tr style=\"text-align: right;\">\n",
       "      <th></th>\n",
       "      <th>X</th>\n",
       "      <th>Y</th>\n",
       "    </tr>\n",
       "  </thead>\n",
       "  <tbody>\n",
       "    <tr>\n",
       "      <th>0</th>\n",
       "      <td>1.0</td>\n",
       "      <td>1.0</td>\n",
       "    </tr>\n",
       "    <tr>\n",
       "      <th>1</th>\n",
       "      <td>1.0</td>\n",
       "      <td>1.0</td>\n",
       "    </tr>\n",
       "    <tr>\n",
       "      <th>2</th>\n",
       "      <td>1.0</td>\n",
       "      <td>1.0</td>\n",
       "    </tr>\n",
       "    <tr>\n",
       "      <th>3</th>\n",
       "      <td>1.0</td>\n",
       "      <td>1.0</td>\n",
       "    </tr>\n",
       "    <tr>\n",
       "      <th>4</th>\n",
       "      <td>1.0</td>\n",
       "      <td>1.0</td>\n",
       "    </tr>\n",
       "  </tbody>\n",
       "</table>\n",
       "</div>"
      ],
      "text/plain": [
       "     X    Y\n",
       "0  1.0  1.0\n",
       "1  1.0  1.0\n",
       "2  1.0  1.0\n",
       "3  1.0  1.0\n",
       "4  1.0  1.0"
      ]
     },
     "execution_count": 91,
     "metadata": {},
     "output_type": "execute_result"
    }
   ],
   "source": [
    "test_data.head()"
   ]
  },
  {
   "cell_type": "code",
   "execution_count": 9,
   "id": "identical-trinidad",
   "metadata": {},
   "outputs": [],
   "source": [
    "train_data['NTG'] = train_data['NTG'] * 1000\n",
    "test_data['NTG'] = test_data['NTG'] * 1000"
   ]
  },
  {
   "cell_type": "code",
   "execution_count": 104,
   "id": "suitable-variance",
   "metadata": {},
   "outputs": [],
   "source": [
    "test_Y = test_data['NTG']\n",
    "test_data = test_data.drop(['NTG'], axis=1)\n",
    "\n",
    "y = train_data['NTG']\n",
    "X = train_data.drop(['NTG'], axis=1)"
   ]
  },
  {
   "cell_type": "code",
   "execution_count": 111,
   "id": "peaceful-spyware",
   "metadata": {},
   "outputs": [],
   "source": [
    "forest_model = RandomForestRegressor(random_state=1)\n",
    "forest_model.fit(X, y)\n",
    "predicted = forest_model.predict(test_data)"
   ]
  },
  {
   "cell_type": "code",
   "execution_count": 112,
   "id": "quarterly-review",
   "metadata": {},
   "outputs": [
    {
     "data": {
      "text/plain": [
       "0.00378326999370833"
      ]
     },
     "execution_count": 112,
     "metadata": {},
     "output_type": "execute_result"
    }
   ],
   "source": [
    "mean_squared_error(test_Y, predicted)"
   ]
  },
  {
   "cell_type": "code",
   "execution_count": 13,
   "id": "medical-vienna",
   "metadata": {},
   "outputs": [
    {
     "data": {
      "text/plain": [
       "0     332.2\n",
       "1     246.3\n",
       "2     238.1\n",
       "3     390.1\n",
       "4     377.5\n",
       "5     238.6\n",
       "6     277.8\n",
       "7     189.7\n",
       "8     376.9\n",
       "9     277.5\n",
       "10    258.4\n",
       "11    248.4\n",
       "12    177.0\n",
       "13    376.4\n",
       "14    388.2\n",
       "15    428.9\n",
       "16    267.4\n",
       "17    413.6\n",
       "18    250.0\n",
       "19    366.7\n",
       "20    325.0\n",
       "21    367.0\n",
       "22    329.9\n",
       "23    490.0\n",
       "Name: NTG, dtype: float64"
      ]
     },
     "execution_count": 13,
     "metadata": {},
     "output_type": "execute_result"
    }
   ],
   "source": [
    "test_Y"
   ]
  },
  {
   "cell_type": "code",
   "execution_count": 94,
   "id": "other-works",
   "metadata": {},
   "outputs": [
    {
     "data": {
      "text/plain": [
       "array([0.32769974, 0.32769974, 0.32769974, 0.32769974, 0.32769974,\n",
       "       0.32769974, 0.32769974, 0.32769974, 0.32769974, 0.32769974,\n",
       "       0.32769974, 0.32769974, 0.32769974, 0.32769974, 0.32769974,\n",
       "       0.32769974, 0.32769974, 0.32769974, 0.32769974, 0.32769974,\n",
       "       0.32769974, 0.32769974, 0.32769974, 0.32769974])"
      ]
     },
     "execution_count": 94,
     "metadata": {},
     "output_type": "execute_result"
    }
   ],
   "source": [
    "predicted"
   ]
  },
  {
   "cell_type": "code",
   "execution_count": 52,
   "id": "juvenile-dancing",
   "metadata": {},
   "outputs": [],
   "source": [
    "import math\n",
    "\n",
    "def RMSE(predicted, target):\n",
    "    sum_x = 0\n",
    "    for i in range(len(target)):\n",
    "        sum_x += (predicted[i] - target[i]) ** 2\n",
    "    return math.sqrt(sum_x) / len(predicted)"
   ]
  },
  {
   "cell_type": "code",
   "execution_count": 113,
   "id": "serious-service",
   "metadata": {},
   "outputs": [
    {
     "data": {
      "text/plain": [
       "0.012555327544028756"
      ]
     },
     "execution_count": 113,
     "metadata": {},
     "output_type": "execute_result"
    }
   ],
   "source": [
    "RMSE(predicted, test_Y)"
   ]
  },
  {
   "cell_type": "code",
   "execution_count": 87,
   "id": "iraqi-equipment",
   "metadata": {},
   "outputs": [
    {
     "data": {
      "text/plain": [
       "0.016236454359772563"
      ]
     },
     "execution_count": 87,
     "metadata": {},
     "output_type": "execute_result"
    }
   ],
   "source": [
    "model = LinearRegression()\n",
    "model.fit(X, y)\n",
    "predicted = model.predict(test_data)\n",
    "RMSE(test_Y, predicted)"
   ]
  },
  {
   "cell_type": "code",
   "execution_count": 88,
   "id": "labeled-liechtenstein",
   "metadata": {},
   "outputs": [
    {
     "data": {
      "text/plain": [
       "0.016277404691010796"
      ]
     },
     "execution_count": 88,
     "metadata": {},
     "output_type": "execute_result"
    }
   ],
   "source": [
    "my_model = XGBRegressor(n_estimators=45, learning_rate=0.1, n_jobs=4)\n",
    "my_model.fit(X, y, eval_set=[(X, y)], verbose=False)\n",
    "\n",
    "predictions = my_model.predict(test_data)\n",
    "RMSE(test_Y, predictions)"
   ]
  },
  {
   "cell_type": "code",
   "execution_count": 89,
   "id": "restricted-conclusion",
   "metadata": {},
   "outputs": [
    {
     "data": {
      "text/plain": [
       "0.016245057863043946"
      ]
     },
     "execution_count": 89,
     "metadata": {},
     "output_type": "execute_result"
    }
   ],
   "source": [
    "regr = RandomForestRegressor(max_depth=100, random_state=1)\n",
    "regr.fit(X, y)\n",
    "predicted = regr.predict(test_data)\n",
    "RMSE(test_Y, predicted)"
   ]
  },
  {
   "cell_type": "code",
   "execution_count": null,
   "id": "registered-convergence",
   "metadata": {},
   "outputs": [],
   "source": [
    "scaler = StandardScaler()\n",
    "features_standardized = scaler.fit_transform()\n",
    "# Создать объект логистической регрессии\n",
    "logistic_regression = LogisticRegression(random_state=0)"
   ]
  },
  {
   "cell_type": "code",
   "execution_count": 58,
   "id": "foreign-salvation",
   "metadata": {},
   "outputs": [],
   "source": [
    "import numpy as np\n",
    "from keras.datasets import imdb\n",
    "from keras.preprocessing.text import Tokenizer\n",
    "from keras import models\n",
    "from keras import layers"
   ]
  },
  {
   "cell_type": "code",
   "execution_count": 114,
   "id": "checked-treatment",
   "metadata": {},
   "outputs": [
    {
     "data": {
      "text/plain": [
       "[<matplotlib.lines.Line2D at 0x7f95c709a4c0>]"
      ]
     },
     "execution_count": 114,
     "metadata": {},
     "output_type": "execute_result"
    },
    {
     "data": {
      "image/png": "[encoded data removed]",
      "text/plain": [
       "<Figure size 432x288 with 1 Axes>"
      ]
     },
     "metadata": {
      "needs_background": "light"
     },
     "output_type": "display_data"
    }
   ],
   "source": [
    "plt.plot(train_data.X, train_data.Y)"
   ]
  },
  {
   "cell_type": "code",
   "execution_count": 60,
   "id": "republican-division",
   "metadata": {},
   "outputs": [],
   "source": [
    "from sklearn import preprocessing\n",
    "# Создать шкалировщик\n",
    "minmax_scale = preprocessing.StandardScaler()\n",
    "# Прошкалировать признак\n",
    "scaled_feature = minmax_scale.fit_transform(np.array(train_data.X).reshape(-1, 1))"
   ]
  },
  {
   "cell_type": "code",
   "execution_count": 61,
   "id": "supposed-mixture",
   "metadata": {},
   "outputs": [],
   "source": [
    "train_data['X'] = scaled_feature.T[0]"
   ]
  },
  {
   "cell_type": "code",
   "execution_count": 62,
   "id": "close-practitioner",
   "metadata": {},
   "outputs": [],
   "source": [
    "# Создать шкалировщик\n",
    "minmax_scale = preprocessing.StandardScaler()\n",
    "# Прошкалировать признак\n",
    "scaled_feature = minmax_scale.fit_transform(np.array(train_data.Y).reshape(-1, 1))"
   ]
  },
  {
   "cell_type": "code",
   "execution_count": 63,
   "id": "automatic-karma",
   "metadata": {},
   "outputs": [],
   "source": [
    "train_data['Y'] = scaled_feature.T[0]"
   ]
  },
  {
   "cell_type": "code",
   "execution_count": 64,
   "id": "floppy-gambling",
   "metadata": {},
   "outputs": [],
   "source": [
    "from sklearn import preprocessing\n",
    "# Создать шкалировщик\n",
    "minmax_scale = preprocessing.StandardScaler()\n",
    "# Прошкалировать признак\n",
    "scaled_feature = minmax_scale.fit_transform(np.array(test_data.X).reshape(-1, 1))\n",
    "\n",
    "test_data['X'] = scaled_feature.T[0]\n",
    "\n",
    "scaled_feature = minmax_scale.fit_transform(np.array(test_data.Y).reshape(-1, 1))\n",
    "test_data['Y'] = scaled_feature.T[0]"
   ]
  },
  {
   "cell_type": "code",
   "execution_count": 65,
   "id": "continental-lover",
   "metadata": {},
   "outputs": [
    {
     "data": {
      "text/html": [
       "<div>\n",
       "<style scoped>\n",
       "    .dataframe tbody tr th:only-of-type {\n",
       "        vertical-align: middle;\n",
       "    }\n",
       "\n",
       "    .dataframe tbody tr th {\n",
       "        vertical-align: top;\n",
       "    }\n",
       "\n",
       "    .dataframe thead th {\n",
       "        text-align: right;\n",
       "    }\n",
       "</style>\n",
       "<table border=\"1\" class=\"dataframe\">\n",
       "  <thead>\n",
       "    <tr style=\"text-align: right;\">\n",
       "      <th></th>\n",
       "      <th>X</th>\n",
       "      <th>Y</th>\n",
       "      <th>NTG</th>\n",
       "    </tr>\n",
       "  </thead>\n",
       "  <tbody>\n",
       "    <tr>\n",
       "      <th>0</th>\n",
       "      <td>-1.607999</td>\n",
       "      <td>-1.076748</td>\n",
       "      <td>0.2006</td>\n",
       "    </tr>\n",
       "    <tr>\n",
       "      <th>1</th>\n",
       "      <td>-1.607999</td>\n",
       "      <td>-0.284087</td>\n",
       "      <td>0.3624</td>\n",
       "    </tr>\n",
       "    <tr>\n",
       "      <th>2</th>\n",
       "      <td>-1.607999</td>\n",
       "      <td>0.848287</td>\n",
       "      <td>0.4381</td>\n",
       "    </tr>\n",
       "    <tr>\n",
       "      <th>3</th>\n",
       "      <td>-1.533117</td>\n",
       "      <td>0.961524</td>\n",
       "      <td>0.4021</td>\n",
       "    </tr>\n",
       "    <tr>\n",
       "      <th>4</th>\n",
       "      <td>-1.458234</td>\n",
       "      <td>-1.642934</td>\n",
       "      <td>0.2628</td>\n",
       "    </tr>\n",
       "  </tbody>\n",
       "</table>\n",
       "</div>"
      ],
      "text/plain": [
       "          X         Y     NTG\n",
       "0 -1.607999 -1.076748  0.2006\n",
       "1 -1.607999 -0.284087  0.3624\n",
       "2 -1.607999  0.848287  0.4381\n",
       "3 -1.533117  0.961524  0.4021\n",
       "4 -1.458234 -1.642934  0.2628"
      ]
     },
     "execution_count": 65,
     "metadata": {},
     "output_type": "execute_result"
    }
   ],
   "source": [
    "train_data.head()"
   ]
  },
  {
   "cell_type": "code",
   "execution_count": 81,
   "id": "motivated-mixer",
   "metadata": {},
   "outputs": [],
   "source": [
    "from sklearn.preprocessing import Normalizer\n",
    "normaiizer = Normalizer(norm=\"l2\")\n",
    "train_data['X'] = normaiizer.transform(np.array(train_data.X).reshape(-1, 1)).T[0]\n",
    "train_data['Y'] = normaiizer.transform(np.array(train_data.Y).reshape(-1, 1)).T[0]\n",
    "test_data['X'] = normaiizer.transform(np.array(test_data.X).reshape(-1, 1)).T[0]\n",
    "test_data['Y'] = normaiizer.transform(np.array(test_data.Y).reshape(-1, 1)).T[0]"
   ]
  },
  {
   "cell_type": "code",
   "execution_count": null,
   "id": "designed-bacon",
   "metadata": {},
   "outputs": [],
   "source": []
  }
 ],
 "metadata": {
  "kernelspec": {
   "display_name": "Python 3",
   "language": "python",
   "name": "python3"
  },
  "language_info": {
   "codemirror_mode": {
    "name": "ipython",
    "version": 3
   },
   "file_extension": ".py",
   "mimetype": "text/x-python",
   "name": "python",
   "nbconvert_exporter": "python",
   "pygments_lexer": "ipython3",
   "version": "3.8.5"
  }
 },
 "nbformat": 4,
 "nbformat_minor": 5
}
